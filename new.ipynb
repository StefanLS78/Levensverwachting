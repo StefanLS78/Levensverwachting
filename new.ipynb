{
 "cells": [
  {
   "cell_type": "code",
   "execution_count": 1,
   "metadata": {},
   "outputs": [
    {
     "name": "stdout",
     "output_type": "stream",
     "text": [
      "C:\\Users\\StefanSijbesmaDAAT\\.virtualenvs\\venv\\Scripts\\python.exe\n",
      "Dash is running on http://127.0.0.1:5000/\n",
      "\n",
      " * Serving Flask app 'app' (lazy loading)\n",
      " * Environment: production\n",
      "\u001b[31m   WARNING: This is a development server. Do not use it in a production deployment.\u001b[0m\n",
      "\u001b[2m   Use a production WSGI server instead.\u001b[0m\n",
      " * Debug mode: on\n"
     ]
    },
    {
     "ename": "SystemExit",
     "evalue": "1",
     "output_type": "error",
     "traceback": [
      "An exception has occurred, use %tb to see the full traceback.\n",
      "\u001b[1;31mSystemExit\u001b[0m\u001b[1;31m:\u001b[0m 1\n"
     ]
    },
    {
     "name": "stderr",
     "output_type": "stream",
     "text": [
      "C:\\Users\\StefanSijbesmaDAAT\\.virtualenvs\\venv\\lib\\site-packages\\IPython\\core\\interactiveshell.py:3465: UserWarning:\n",
      "\n",
      "To exit: use 'exit', 'quit', or Ctrl-D.\n",
      "\n"
     ]
    }
   ],
   "source": [
    "import sys\n",
    "print(sys.executable)\n",
    "\n",
    "\n",
    "\n",
    "\n",
    "from dash import dcc\n",
    "from dash import html\n",
    "from dash import Output, Input\n",
    "\n",
    "from app import app\n",
    "from layouts import navbar\n",
    "from layouts import layout_overview, layout_comparison, layout_analysis\n",
    "import callbacks\n",
    "\n",
    "app.config.suppress_callback_exceptions = True\n",
    "\n",
    "app.layout = html.Div([\n",
    "            dcc.Location(id='url', refresh=False),\n",
    "            navbar(),\n",
    "            html.Div(id='page-content')\n",
    "])\n",
    "\n",
    "\n",
    "@app.callback(Output('page-content', 'children'),\n",
    "            [Input('url', 'pathname')])\n",
    "def display_page(pathname):\n",
    "    \"\"\"_summary_\n",
    "\n",
    "    Args:\n",
    "        pathname (_type_): _description_\n",
    "\n",
    "    Returns:\n",
    "        _type_: _description_\n",
    "    \"\"\"    \n",
    "    \n",
    "    if pathname == '/':\n",
    "        return layout_overview\n",
    "    elif pathname == '/overview':\n",
    "        return layout_overview\n",
    "    elif pathname == '/comparison':\n",
    "        return layout_comparison\n",
    "    elif pathname == '/analysis':\n",
    "        return layout_analysis\n",
    "    else:\n",
    "        return '404'\n",
    "\n",
    "if __name__ == '__main__':\n",
    "    app.run_server(port='5000', host='127.0.0.1', debug=True)\n",
    "    \n"
   ]
  }
 ],
 "metadata": {
  "interpreter": {
   "hash": "194fac315c351ed8c212e427d118856592d444535527c7071edf40a47e004a3b"
  },
  "kernelspec": {
   "display_name": "Python 3.10.0 ('venv')",
   "language": "python",
   "name": "python3"
  },
  "language_info": {
   "codemirror_mode": {
    "name": "ipython",
    "version": 3
   },
   "file_extension": ".py",
   "mimetype": "text/x-python",
   "name": "python",
   "nbconvert_exporter": "python",
   "pygments_lexer": "ipython3",
   "version": "3.10.0"
  },
  "orig_nbformat": 4
 },
 "nbformat": 4,
 "nbformat_minor": 2
}
